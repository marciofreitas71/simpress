{
 "cells": [
  {
   "cell_type": "code",
   "execution_count": 1,
   "id": "1c39ab17-e55d-4ce2-98cd-bf036b12dfd5",
   "metadata": {},
   "outputs": [],
   "source": [
    "import pandas as pd"
   ]
  },
  {
   "cell_type": "code",
   "execution_count": 3,
   "id": "c49b8eca-e80a-42cb-be50-91a2c60751b8",
   "metadata": {},
   "outputs": [],
   "source": [
    "df = pd.read_csv('testes/df_merged.csv')\n",
    "df = df[df['BrandName'] == 'HP']"
   ]
  },
  {
   "cell_type": "code",
   "execution_count": 4,
   "id": "2066ec73-3e01-40f4-9276-b07193097294",
   "metadata": {},
   "outputs": [
    {
     "data": {
      "text/plain": [
       "Index(['SerialNumber', 'RealDateCapture', 'EnterpriseName', 'PrinterDeviceID',\n",
       "       'BrandName', 'PrinterModelName', 'AddressName', 'DateTimeRead',\n",
       "       'ReferenceMono', 'ReferenceColor', 'Engaged'],\n",
       "      dtype='object')"
      ]
     },
     "execution_count": 4,
     "metadata": {},
     "output_type": "execute_result"
    }
   ],
   "source": [
    "df.columns"
   ]
  },
  {
   "cell_type": "code",
   "execution_count": 7,
   "id": "d10c6127-16a0-4fc4-97ad-34111b5ebc2e",
   "metadata": {},
   "outputs": [],
   "source": [
    "df_unique = df[['SerialNumber', 'EnterpriseName', 'PrinterDeviceID',\n",
    "       'BrandName', 'PrinterModelName']].drop_duplicates()"
   ]
  },
  {
   "cell_type": "code",
   "execution_count": 8,
   "id": "59d4f9cf-d769-4318-9835-3a432b9506ea",
   "metadata": {},
   "outputs": [],
   "source": [
    "df_unique.to_csv('testes/data/df_impressoras.csv')"
   ]
  },
  {
   "cell_type": "code",
   "execution_count": null,
   "id": "98e10a11-7aa3-4776-bed6-59a92d0453d8",
   "metadata": {},
   "outputs": [],
   "source": []
  }
 ],
 "metadata": {
  "kernelspec": {
   "display_name": "Python 3 (ipykernel)",
   "language": "python",
   "name": "python3"
  },
  "language_info": {
   "codemirror_mode": {
    "name": "ipython",
    "version": 3
   },
   "file_extension": ".py",
   "mimetype": "text/x-python",
   "name": "python",
   "nbconvert_exporter": "python",
   "pygments_lexer": "ipython3",
   "version": "3.12.2"
  }
 },
 "nbformat": 4,
 "nbformat_minor": 5
}
