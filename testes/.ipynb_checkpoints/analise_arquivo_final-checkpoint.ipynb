{
 "cells": [
  {
   "cell_type": "code",
   "execution_count": 5,
   "metadata": {},
   "outputs": [],
   "source": [
    "import pandas as pd\n",
    "import socket"
   ]
  },
  {
   "cell_type": "code",
   "execution_count": 6,
   "metadata": {},
   "outputs": [],
   "source": [
    "%run \"funcoes_analise_arquivo_final.ipynb\""
   ]
  },
  {
   "cell_type": "code",
   "execution_count": 7,
   "metadata": {},
   "outputs": [],
   "source": [
    "# Carre\n",
    "dados_webservice = pd.read_csv('../arquivos/arquivo_final.csv')"
   ]
  },
  {
   "cell_type": "code",
   "execution_count": 8,
   "metadata": {},
   "outputs": [],
   "source": [
    "dados_bruno = pd.read_csv('../data/Impressoras Outsourcing - HP.csv')"
   ]
  },
  {
   "cell_type": "code",
   "execution_count": 9,
   "metadata": {},
   "outputs": [],
   "source": [
    "dados_bruno['SerialNumber'] = dados_bruno['Série']"
   ]
  },
  {
   "cell_type": "code",
   "execution_count": 10,
   "metadata": {},
   "outputs": [],
   "source": [
    "dados_mesclados = pd.merge(dados_webservice, dados_bruno, on='SerialNumber', how='left')"
   ]
  },
  {
   "cell_type": "code",
   "execution_count": 28,
   "metadata": {},
   "outputs": [],
   "source": [
    "impressoras_73zona = dados_mesclados.loc[dados_mesclados['AddressName'] == '10.171.73.60 (Network)']"
   ]
  },
  {
   "cell_type": "code",
   "execution_count": 29,
   "metadata": {},
   "outputs": [
    {
     "data": {
      "text/html": [
       "<div>\n",
       "<style scoped>\n",
       "    .dataframe tbody tr th:only-of-type {\n",
       "        vertical-align: middle;\n",
       "    }\n",
       "\n",
       "    .dataframe tbody tr th {\n",
       "        vertical-align: top;\n",
       "    }\n",
       "\n",
       "    .dataframe thead th {\n",
       "        text-align: right;\n",
       "    }\n",
       "</style>\n",
       "<table border=\"1\" class=\"dataframe\">\n",
       "  <thead>\n",
       "    <tr style=\"text-align: right;\">\n",
       "      <th></th>\n",
       "      <th>EnterpriseName</th>\n",
       "      <th>PrinterDeviceID</th>\n",
       "      <th>BrandName</th>\n",
       "      <th>PrinterModelName</th>\n",
       "      <th>SerialNumber</th>\n",
       "      <th>AddressName</th>\n",
       "      <th>DateTimeRead</th>\n",
       "      <th>ReferenceMono</th>\n",
       "      <th>ReferenceColor</th>\n",
       "      <th>Engaged</th>\n",
       "      <th>RealDataCapture</th>\n",
       "      <th>Série</th>\n",
       "      <th>Localização</th>\n",
       "      <th>Município</th>\n",
       "      <th>Fila</th>\n",
       "      <th>Modelo</th>\n",
       "      <th>Unidade</th>\n",
       "    </tr>\n",
       "  </thead>\n",
       "  <tbody>\n",
       "  </tbody>\n",
       "</table>\n",
       "</div>"
      ],
      "text/plain": [
       "Empty DataFrame\n",
       "Columns: [EnterpriseName, PrinterDeviceID, BrandName, PrinterModelName, SerialNumber, AddressName, DateTimeRead, ReferenceMono, ReferenceColor, Engaged, RealDataCapture, Série, Localização, Município, Fila, Modelo, Unidade]\n",
       "Index: []"
      ]
     },
     "execution_count": 29,
     "metadata": {},
     "output_type": "execute_result"
    }
   ],
   "source": [
    "impressoras_73zona"
   ]
  },
  {
   "cell_type": "code",
   "execution_count": null,
   "metadata": {},
   "outputs": [],
   "source": [
    "for index, rows in df.iterrows():\n",
    "    ip = rows['AddressName']\n",
    "    hostname = obter_hostname_por_ip(ip)\n",
    "    print(f'{ip} - {hostname}')"
   ]
  },
  {
   "cell_type": "code",
   "execution_count": null,
   "metadata": {},
   "outputs": [],
   "source": [
    "df['AddressName'] = df['AddressName'].apply(lambda x: x[:-10])"
   ]
  },
  {
   "cell_type": "code",
   "execution_count": null,
   "metadata": {},
   "outputs": [],
   "source": [
    "df.to_csv('arquivo_final_2.csv')"
   ]
  },
  {
   "cell_type": "markdown",
   "metadata": {},
   "source": [
    "# Contagem de ocorrÊncias para cada impressora no dataset"
   ]
  },
  {
   "cell_type": "code",
   "execution_count": null,
   "metadata": {},
   "outputs": [],
   "source": [
    "contagem_ocorrencias = df['SerialNumber'].value_counts()\n"
   ]
  },
  {
   "cell_type": "code",
   "execution_count": null,
   "metadata": {},
   "outputs": [],
   "source": [
    "contagem_ocorrencias"
   ]
  },
  {
   "cell_type": "code",
   "execution_count": null,
   "metadata": {},
   "outputs": [],
   "source": [
    "# Agrupar os dados pelo número de série da impressora e contar os valores únicos de endereço IP em cada grupo\n",
    "ip_por_serial = df.groupby('SerialNumber')['AddressName'].nunique()"
   ]
  },
  {
   "cell_type": "code",
   "execution_count": null,
   "metadata": {},
   "outputs": [],
   "source": [
    "series_com_multiplos_ips = ip_por_serial[ip_por_serial > 1]\n"
   ]
  },
  {
   "cell_type": "code",
   "execution_count": null,
   "metadata": {},
   "outputs": [],
   "source": [
    "if series_com_multiplos_ips.empty:\n",
    "    print(\"Todas as impressoras sempre utilizaram o mesmo IP.\")\n",
    "else:\n",
    "    print(\"Algumas impressoras utilizaram múltiplos IPs ao longo do tempo.\")\n",
    "    print(\"Número de IPs diferentes por série de impressora:\")\n",
    "    print(series_com_multiplos_ips)"
   ]
  }
 ],
 "metadata": {
  "kernelspec": {
   "display_name": "Python 3 (ipykernel)",
   "language": "python",
   "name": "python3"
  },
  "language_info": {
   "codemirror_mode": {
    "name": "ipython",
    "version": 3
   },
   "file_extension": ".py",
   "mimetype": "text/x-python",
   "name": "python",
   "nbconvert_exporter": "python",
   "pygments_lexer": "ipython3",
   "version": "3.12.2"
  }
 },
 "nbformat": 4,
 "nbformat_minor": 4
}
