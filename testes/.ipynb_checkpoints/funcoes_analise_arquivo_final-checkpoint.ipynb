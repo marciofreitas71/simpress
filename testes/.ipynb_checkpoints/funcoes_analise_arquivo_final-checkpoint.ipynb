{
 "cells": [
  {
   "cell_type": "code",
   "execution_count": 41,
   "metadata": {},
   "outputs": [],
   "source": [
    "import pandas as pd\n",
    "import socket"
   ]
  },
  {
   "cell_type": "code",
   "execution_count": 19,
   "metadata": {},
   "outputs": [],
   "source": [
    "# Função para encontrar o hostname a partir do IP\n",
    "def obter_hostname_por_ip(ip):\n",
    "    try:\n",
    "        hostname = socket.gethostbyaddr(ip[:-10])\n",
    "        return hostname[0]  # O nome do host está na primeira posição da tupla retornada\n",
    "    except socket.herror:\n",
    "        return \"Hostname não encontrado\"\n",
    "    except socket.gaierror:\n",
    "        return \"Endereço IP inválido\"\n"
   ]
  },
  {
   "cell_type": "code",
   "execution_count": 42,
   "metadata": {},
   "outputs": [],
   "source": [
    "# Carre\n",
    "dados_webservice = pd.read_csv('../arquivos/arquivo_final.csv')"
   ]
  },
  {
   "cell_type": "code",
   "execution_count": 43,
   "metadata": {},
   "outputs": [
    {
     "data": {
      "text/plain": [
       "Index(['EnterpriseName', 'PrinterDeviceID', 'BrandName', 'PrinterModelName',\n",
       "       'SerialNumber', 'AddressName', 'DateTimeRead', 'ReferenceMono',\n",
       "       'ReferenceColor', 'Engaged', 'RealDataCapture'],\n",
       "      dtype='object')"
      ]
     },
     "execution_count": 43,
     "metadata": {},
     "output_type": "execute_result"
    }
   ],
   "source": [
    "dados_webservice.columns"
   ]
  },
  {
   "cell_type": "code",
   "execution_count": 44,
   "metadata": {},
   "outputs": [],
   "source": [
    "dados_bruno = pd.read_csv('../data/Impressoras Outsourcing - HP.csv')"
   ]
  },
  {
   "cell_type": "code",
   "execution_count": 45,
   "metadata": {},
   "outputs": [],
   "source": [
    "dados_bruno['SerialNumber'] = dados_bruno['Série']"
   ]
  },
  {
   "cell_type": "code",
   "execution_count": 46,
   "metadata": {},
   "outputs": [
    {
     "data": {
      "text/plain": [
       "Index(['Série', 'Localização', 'Município', 'Fila', 'Modelo', 'Unidade',\n",
       "       'SerialNumber'],\n",
       "      dtype='object')"
      ]
     },
     "execution_count": 46,
     "metadata": {},
     "output_type": "execute_result"
    }
   ],
   "source": [
    "dados_bruno.columns"
   ]
  },
  {
   "cell_type": "code",
   "execution_count": 47,
   "metadata": {},
   "outputs": [],
   "source": [
    "dados_mesclados = pd.merge(dados_webservice, dados_bruno, on='SerialNumber', how='left')"
   ]
  },
  {
   "cell_type": "code",
   "execution_count": 40,
   "metadata": {
    "scrolled": true
   },
   "outputs": [],
   "source": [
    "dados_mesclados.to_csv('../arquivos/dados_mesclados.csv')"
   ]
  },
  {
   "cell_type": "code",
   "execution_count": null,
   "metadata": {},
   "outputs": [],
   "source": [
    "for index, rows in df.iterrows():\n",
    "    ip = rows['AddressName']\n",
    "    hostname = obter_hostname_por_ip(ip)\n",
    "    print(f'{ip} - {hostname}')"
   ]
  },
  {
   "cell_type": "code",
   "execution_count": null,
   "metadata": {},
   "outputs": [],
   "source": [
    "df['AddressName'] = df['AddressName'].apply(lambda x: x[:-10])"
   ]
  },
  {
   "cell_type": "code",
   "execution_count": null,
   "metadata": {},
   "outputs": [],
   "source": [
    "df.to_csv('arquivo_final_2.csv')"
   ]
  },
  {
   "cell_type": "markdown",
   "metadata": {},
   "source": [
    "# Contagem de ocorrÊncias para cada impressora no dataset"
   ]
  },
  {
   "cell_type": "code",
   "execution_count": null,
   "metadata": {},
   "outputs": [],
   "source": [
    "contagem_ocorrencias = df['SerialNumber'].value_counts()\n"
   ]
  },
  {
   "cell_type": "code",
   "execution_count": null,
   "metadata": {},
   "outputs": [],
   "source": [
    "contagem_ocorrencias"
   ]
  },
  {
   "cell_type": "code",
   "execution_count": null,
   "metadata": {},
   "outputs": [],
   "source": [
    "# Agrupar os dados pelo número de série da impressora e contar os valores únicos de endereço IP em cada grupo\n",
    "ip_por_serial = df.groupby('SerialNumber')['AddressName'].nunique()"
   ]
  },
  {
   "cell_type": "code",
   "execution_count": null,
   "metadata": {},
   "outputs": [],
   "source": [
    "series_com_multiplos_ips = ip_por_serial[ip_por_serial > 1]\n"
   ]
  },
  {
   "cell_type": "code",
   "execution_count": null,
   "metadata": {},
   "outputs": [],
   "source": [
    "if series_com_multiplos_ips.empty:\n",
    "    print(\"Todas as impressoras sempre utilizaram o mesmo IP.\")\n",
    "else:\n",
    "    print(\"Algumas impressoras utilizaram múltiplos IPs ao longo do tempo.\")\n",
    "    print(\"Número de IPs diferentes por série de impressora:\")\n",
    "    print(series_com_multiplos_ips)"
   ]
  }
 ],
 "metadata": {
  "kernelspec": {
   "display_name": "Python 3 (ipykernel)",
   "language": "python",
   "name": "python3"
  },
  "language_info": {
   "codemirror_mode": {
    "name": "ipython",
    "version": 3
   },
   "file_extension": ".py",
   "mimetype": "text/x-python",
   "name": "python",
   "nbconvert_exporter": "python",
   "pygments_lexer": "ipython3",
   "version": "3.12.2"
  }
 },
 "nbformat": 4,
 "nbformat_minor": 4
}
