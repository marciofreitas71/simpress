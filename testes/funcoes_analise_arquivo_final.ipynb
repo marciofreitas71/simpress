{
 "cells": [
  {
   "cell_type": "code",
   "execution_count": 41,
   "metadata": {},
   "outputs": [],
   "source": [
    "import pandas as pd\n",
    "import socket"
   ]
  },
  {
   "cell_type": "code",
   "execution_count": 19,
   "metadata": {},
   "outputs": [],
   "source": [
    "# Função para encontrar o hostname a partir do IP\n",
    "def obter_hostname_por_ip(ip):\n",
    "    try:\n",
    "        hostname = socket.gethostbyaddr(ip[:-10])\n",
    "        return hostname[0]  # O nome do host está na primeira posição da tupla retornada\n",
    "    except socket.herror:\n",
    "        return \"Hostname não encontrado\"\n",
    "    except socket.gaierror:\n",
    "        return \"Endereço IP inválido\"\n"
   ]
  }
 ],
 "metadata": {
  "kernelspec": {
   "display_name": "Python 3 (ipykernel)",
   "language": "python",
   "name": "python3"
  },
  "language_info": {
   "codemirror_mode": {
    "name": "ipython",
    "version": 3
   },
   "file_extension": ".py",
   "mimetype": "text/x-python",
   "name": "python",
   "nbconvert_exporter": "python",
   "pygments_lexer": "ipython3",
   "version": "3.12.2"
  }
 },
 "nbformat": 4,
 "nbformat_minor": 4
}
