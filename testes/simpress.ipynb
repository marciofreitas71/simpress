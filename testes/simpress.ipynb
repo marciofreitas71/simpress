{
 "cells": [
  {
   "cell_type": "code",
   "execution_count": null,
   "id": "279492ce-59a3-4b10-a393-e1da7a3fe098",
   "metadata": {},
   "outputs": [],
   "source": [
    "import pandas as pd"
   ]
  },
  {
   "cell_type": "code",
   "execution_count": null,
   "id": "e645a5cb-1cca-498d-baa8-0352e4c86f3b",
   "metadata": {},
   "outputs": [],
   "source": [
    "df = pd.read_csv('arquivo_final.csv')"
   ]
  },
  {
   "cell_type": "code",
   "execution_count": null,
   "id": "511d92e7-9d30-4aec-800c-f4a8cbe8278f",
   "metadata": {},
   "outputs": [],
   "source": [
    "# Versão do imp como lista\n",
    "imp = df['SerialNumber'].unique()\n"
   ]
  },
  {
   "cell_type": "code",
   "execution_count": null,
   "id": "2c779481-c30c-44a3-be3f-03b7e8488b33",
   "metadata": {},
   "outputs": [],
   "source": [
    "# Versão do imp como dataframe\n",
    "imp = df.drop_duplicates(subset=['SerialNumber'])"
   ]
  },
  {
   "cell_type": "code",
   "execution_count": null,
   "id": "5e9ef0af-8e39-45b6-8ace-3780fb9e043a",
   "metadata": {},
   "outputs": [],
   "source": [
    "data_final = '2024-01-01'\n",
    "data_inicial = ''"
   ]
  },
  {
   "cell_type": "code",
   "execution_count": null,
   "id": "f91f69a0-6736-4a52-a963-8d43fa88be26",
   "metadata": {},
   "outputs": [],
   "source": [
    "len(imp)"
   ]
  },
  {
   "cell_type": "code",
   "execution_count": null,
   "id": "4d351887-e75d-46b8-b4dd-985cfc613832",
   "metadata": {},
   "outputs": [],
   "source": [
    "# Classifica o DataFrame pelos valores da coluna 'DateTimeRead' em ordem decrescente\n",
    "df = df.sort_values(by='DateTimeRead', ascending=False)"
   ]
  },
  {
   "cell_type": "code",
   "execution_count": null,
   "id": "4e01dd00-4314-4eb6-9c00-ea472db7ac28",
   "metadata": {},
   "outputs": [],
   "source": [
    "# Dataframe com os valores do do dia 01/01/2024\n",
    "# Converta a coluna 'DateTimeRead' para o tipo datetime, se ainda não estiver\n",
    "df['DateTimeRead'] = pd.to_datetime(df['DateTimeRead'])\n",
    "df_jan = df[df['RealDateCapture'] == '2024-01-01']"
   ]
  },
  {
   "cell_type": "code",
   "execution_count": null,
   "id": "ebfd8f76-f6d1-41db-8fe7-78af7ce7726b",
   "metadata": {},
   "outputs": [],
   "source": [
    "# Filtra o DataFrame para manter apenas as entradas antes de '2024-01-01T00:00:00'\n",
    "df = df[df['DateTimeRead'] < data_final + 'T00:00:00']"
   ]
  },
  {
   "cell_type": "code",
   "execution_count": null,
   "id": "3bc9eecc-b7ee-488a-a49e-3bb5bdb59683",
   "metadata": {},
   "outputs": [],
   "source": [
    "# lista para armazenar as impressoras que não foram registradas no dia 01/01/2024\n",
    "imp2 = []"
   ]
  },
  {
   "cell_type": "code",
   "execution_count": null,
   "id": "873fadd2-b111-4905-9949-a0b1aa0c1e4a",
   "metadata": {},
   "outputs": [],
   "source": [
    "# Iteração para buscar impressoras e armazenar as que não estão no dataframe\n",
    " \n",
    "\n",
    "for impressora in imp:\n",
    "    encontrada = False\n",
    "    for index,row in df_jan.iterrows():\n",
    "        if impressora == row['SerialNumber']:\n",
    "            encontrada = True\n",
    "    if encontrada == False:\n",
    "        imp2.append(impressora)\n",
    "\n",
    "print(f'Foram encontradas {len(imp2)} impressoras')"
   ]
  },
  {
   "cell_type": "code",
   "execution_count": null,
   "id": "44d8607a-dda0-4542-b2d1-fe1eea7229ce",
   "metadata": {},
   "outputs": [],
   "source": [
    "lista_jan = []"
   ]
  },
  {
   "cell_type": "code",
   "execution_count": null,
   "id": "d6ce1360-f977-4fb1-9f5e-7b6a04b6dd67",
   "metadata": {},
   "outputs": [],
   "source": [
    "from IPython.display import clear_output\n",
    "import pandas as pd\n",
    "\n",
    "# Inicializa a lista e o DataFrame final\n",
    "lista_jan = []\n",
    "df_final_jan = pd.DataFrame(columns=df.columns)\n",
    "\n",
    "# Contador para controlar quantas impressoras foram adicionadas\n",
    "qtd_impressoras = 0\n",
    "\n",
    "# Enquanto o número de impressoras adicionadas for menor que o número total de impressoras em 'imp'\n",
    "while qtd_impressoras < len(imp):\n",
    "    # Itera sobre as impressoras em 'imp'\n",
    "    for index, row1 in imp.iterrows():  \n",
    "        print(f'{qtd_impressoras} impressoras adicionadas')\n",
    "        print(f'{len(imp) - qtd_impressoras} impressoras restantes')\n",
    "        print(f'Procurando impressora {row1['SerialNumber']}...')\n",
    "        # Verifica se a impressora já foi adicionada à lista\n",
    "        if row1['SerialNumber'] not in lista_jan:\n",
    "            # Itera sobre as linhas do DataFrame\n",
    "            for index, row2 in df.iterrows():\n",
    "                # Verifica se a impressora atual corresponde à impressora na linha\n",
    "                if row2['SerialNumber'] == row1['SerialNumber']:\n",
    "                    # Adiciona informações da impressora à lista\n",
    "                    lista_jan.append([\n",
    "                        row2['EnterpriseName'],\n",
    "                        row2['PrinterDeviceID'],\n",
    "                        row2['BrandName'],\n",
    "                        row2['PrinterModelName'],\n",
    "                        row2['SerialNumber'],\n",
    "                        row2['AddressName'],\n",
    "                        row2['DateTimeRead'],\n",
    "                        row2['ReferenceMono'],\n",
    "                        row2['ReferenceColor'],\n",
    "                        row2['Engaged'],\n",
    "                        row2['RealDateCapture'] == '2024-01-01'\n",
    "                    ])                    \n",
    "                    print(f'{row1['SerialNumber']} adicionada!')\n",
    "                    \n",
    "                    #Limpa a saída do notebook após cada iteração completa\n",
    "                    clear_output(wait=True)\n",
    "                    # Sai do loop de linhas e passa para a próxima impressora\n",
    "                    break\n",
    "        # Incrementa o contador de impressoras adicionadas\n",
    "        qtd_impressoras += 1\n",
    "        \n",
    "    # Se o número de impressoras adicionadas for igual ao número total de impressoras, saia do loop\n",
    "    if qtd_impressoras == len(df):\n",
    "        lista_restante.append(row1['SerialNumber'])\n",
    "        print('Todas as impressoras foram encontradas')\n",
    "        break\n",
    "\n",
    "# Converte a lista de listas em um DataFrame\n",
    "df_final_jan = pd.DataFrame(lista_jan, columns=df.columns)"
   ]
  },
  {
   "cell_type": "code",
   "execution_count": null,
   "id": "e41e89bc-4186-4af3-a0bd-2358824938ed",
   "metadata": {},
   "outputs": [],
   "source": [
    "print(len(lista_jan))"
   ]
  },
  {
   "cell_type": "code",
   "execution_count": null,
   "id": "e3513660-4399-4288-b547-7a44d884e702",
   "metadata": {},
   "outputs": [],
   "source": [
    "df_final_jan.to_csv('df_final_jan.csv') "
   ]
  }
 ],
 "metadata": {
  "kernelspec": {
   "display_name": "Python 3 (ipykernel)",
   "language": "python",
   "name": "python3"
  },
  "language_info": {
   "codemirror_mode": {
    "name": "ipython",
    "version": 3
   },
   "file_extension": ".py",
   "mimetype": "text/x-python",
   "name": "python",
   "nbconvert_exporter": "python",
   "pygments_lexer": "ipython3",
   "version": "3.12.1"
  }
 },
 "nbformat": 4,
 "nbformat_minor": 5
}
