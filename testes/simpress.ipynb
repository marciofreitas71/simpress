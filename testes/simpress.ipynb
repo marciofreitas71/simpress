{
 "cells": [
  {
   "cell_type": "code",
   "execution_count": 1,
   "id": "279492ce-59a3-4b10-a393-e1da7a3fe098",
   "metadata": {},
   "outputs": [],
   "source": [
    "import pandas as pd\n",
    "from datetime import datetime"
   ]
  },
  {
   "cell_type": "code",
   "execution_count": 2,
   "id": "5e9ef0af-8e39-45b6-8ace-3780fb9e043a",
   "metadata": {},
   "outputs": [],
   "source": [
    "data_final = '2024-01-01'\n",
    "data_inicial = ''"
   ]
  },
  {
   "cell_type": "code",
   "execution_count": 3,
   "id": "e645a5cb-1cca-498d-baa8-0352e4c86f3b",
   "metadata": {},
   "outputs": [],
   "source": [
    "df = pd.read_csv('arquivo_final-16-05-2024.csv')"
   ]
  },
  {
   "cell_type": "code",
   "execution_count": 4,
   "id": "4d351887-e75d-46b8-b4dd-985cfc613832",
   "metadata": {},
   "outputs": [],
   "source": [
    "# Classifica o DataFrame pelos valores da coluna 'DateTimeRead' em ordem decrescente\n",
    "df = df.sort_values(by='DateTimeRead', ascending=False)\n",
    "# Dataframe para contar as impressoras\n",
    "imp = df.drop_duplicates(subset=['SerialNumber'])"
   ]
  },
  {
   "cell_type": "code",
   "execution_count": 5,
   "id": "4e01dd00-4314-4eb6-9c00-ea472db7ac28",
   "metadata": {},
   "outputs": [],
   "source": [
    "# Dataframe com os valores do do dia 01/01/2024\n",
    "# Converta a coluna 'DateTimeRead' para o tipo datetime, se ainda não estiver\n",
    "df['DateTimeRead'] = pd.to_datetime(df['DateTimeRead'])\n",
    "df['RealDateCapture'] = data_final"
   ]
  },
  {
   "cell_type": "code",
   "execution_count": 6,
   "id": "ebfd8f76-f6d1-41db-8fe7-78af7ce7726b",
   "metadata": {},
   "outputs": [],
   "source": [
    "# Filtra o DataFrame para manter apenas as entradas antes de '2024-01-01T00:00:00'\n",
    "df = df[df['DateTimeRead'] < data_final + ' 00:00:00']\n"
   ]
  },
  {
   "cell_type": "code",
   "execution_count": 7,
   "id": "83ff3b97-b658-4bbb-b46c-25ff39445cff",
   "metadata": {},
   "outputs": [
    {
     "name": "stdout",
     "output_type": "stream",
     "text": [
      "Foram adicionadas ao arquivo 375 impressoras de um total de 375\n"
     ]
    }
   ],
   "source": [
    "from IPython.display import clear_output\n",
    "\n",
    "# Inicializa a lista e o DataFrame final\n",
    "registros_parcial = []\n",
    "registros_final = pd.DataFrame(columns=df.columns)\n",
    "lista_jan = []\n",
    "\n",
    "# Contador para controlar quantas impressoras foram adicionadas\n",
    "qtd_impressoras = 0\n",
    "\n",
    "# Enquanto o número de impressoras adicionadas for menor que o número total de impressoras em 'imp'\n",
    "# Enquanto o número de impressoras adicionadas for menor que o número total de impressoras em 'imp'\n",
    "while qtd_impressoras < len(imp):\n",
    "    # Itera sobre as impressoras em 'imp'\n",
    "    for index, row1 in imp.iterrows():  \n",
    "        print(f'{qtd_impressoras} impressoras adicionadas')\n",
    "        print(f'{len(imp) - qtd_impressoras} impressoras restantes')\n",
    "        print(f'Procurando impressora {row1[\"SerialNumber\"]}...')\n",
    "        # Verifica se a impressora já foi adicionada à lista\n",
    "        if row1[\"SerialNumber\"] not in lista_jan:\n",
    "            # Flag para verificar se a impressora foi encontrada nos registros\n",
    "            encontrada = False\n",
    "            # Itera sobre as linhas do DataFrame\n",
    "            for index, row2 in df.iterrows():\n",
    "                # Verifica se a impressora atual corresponde à impressora na linha\n",
    "                if row2[\"SerialNumber\"] == row1[\"SerialNumber\"]:\n",
    "                    # Adiciona informações da impressora à lista\n",
    "                    registros_parcial.append([\n",
    "                        row2[\"EnterpriseName\"],\n",
    "                        row2[\"PrinterDeviceID\"],\n",
    "                        row2[\"BrandName\"],\n",
    "                        row2[\"PrinterModelName\"],\n",
    "                        row2[\"SerialNumber\"],\n",
    "                        row2[\"AddressName\"],\n",
    "                        row2[\"DateTimeRead\"],\n",
    "                        row2[\"ReferenceMono\"],\n",
    "                        row2[\"ReferenceColor\"],\n",
    "                        row2[\"Engaged\"],\n",
    "                        '2024-01-01'\n",
    "                    ])\n",
    "                    print(f'{row1[\"SerialNumber\"]} adicionada!')\n",
    "                    # Define a flag como True pois a impressora foi encontrada\n",
    "                    encontrada = True\n",
    "                    #Limpa a saída do notebook após cada iteração completa\n",
    "                    clear_output(wait=True)\n",
    "                    # Sai do loop de linhas e passa para a próxima impressora\n",
    "                    break\n",
    "            # Se a impressora não foi encontrada nos registros, adiciona com valores padrão\n",
    "            if not encontrada:\n",
    "                # Define a flag para indicar que a busca por impressoras não encontradas está em andamento\n",
    "                busca_nao_encontradas_em_andamento = True\n",
    "                print(f'Procurando impressoras não encontradas...')\n",
    "                registros_parcial.append([\n",
    "                    row1[\"EnterpriseName\"],\n",
    "                    row1[\"PrinterDeviceID\"],\n",
    "                    row1[\"BrandName\"],\n",
    "                    row1[\"PrinterModelName\"],\n",
    "                    row1[\"SerialNumber\"],\n",
    "                    'Não alocada',\n",
    "                    data_final + ' 00:00:00',\n",
    "                    0,\n",
    "                    0,\n",
    "                    False,\n",
    "                    data_final\n",
    "                ])\n",
    "                print(f'{row1[\"SerialNumber\"]} não encontrada. Adicionada com valores padrão.')\n",
    "                #Limpa a saída do notebook após cada iteração completa\n",
    "                clear_output(wait=True)\n",
    "        # Incrementa o contador de impressoras adicionadas\n",
    "        qtd_impressoras += 1\n",
    "        \n",
    "    # Se o número de impressoras adicionadas for igual ao número total de impressoras, saia do loop\n",
    "    if qtd_impressoras == len(df):\n",
    "        lista_restante.append(row1['SerialNumber'])\n",
    "        break\n",
    "        \n",
    "\n",
    "# Converte a lista de listas em um DataFrame\n",
    "registros_final = pd.DataFrame(registros_parcial, columns=df.columns)\n",
    "\n",
    "print(f'Foram adicionadas ao arquivo {len(registros_final)} impressoras de um total de {len(imp)}')\n",
    "registros_final.to_csv(f'data_final-{data_final}.csv') \n"
   ]
  },
  {
   "cell_type": "code",
   "execution_count": 8,
   "id": "e3513660-4399-4288-b547-7a44d884e702",
   "metadata": {},
   "outputs": [],
   "source": [
    "registros_final.to_csv(f'data_final-{data_final}.csv') "
   ]
  },
  {
   "cell_type": "code",
   "execution_count": null,
   "id": "7da23a5a-5e0a-494c-a2ad-2c1737be5328",
   "metadata": {},
   "outputs": [],
   "source": []
  }
 ],
 "metadata": {
  "kernelspec": {
   "display_name": "Python 3 (ipykernel)",
   "language": "python",
   "name": "python3"
  },
  "language_info": {
   "codemirror_mode": {
    "name": "ipython",
    "version": 3
   },
   "file_extension": ".py",
   "mimetype": "text/x-python",
   "name": "python",
   "nbconvert_exporter": "python",
   "pygments_lexer": "ipython3",
   "version": "3.12.2"
  }
 },
 "nbformat": 4,
 "nbformat_minor": 5
}
